{
 "cells": [
  {
   "cell_type": "code",
   "execution_count": 1,
   "metadata": {},
   "outputs": [],
   "source": [
    "import pandas as pd\n",
    "import numpy as np\n",
    "import matplotlib.pyplot as plt\n",
    "import seaborn as sns\n",
    "color = sns.color_palette()"
   ]
  },
  {
   "cell_type": "code",
   "execution_count": 2,
   "metadata": {},
   "outputs": [
    {
     "data": {
      "text/html": [
       "<div>\n",
       "<style scoped>\n",
       "    .dataframe tbody tr th:only-of-type {\n",
       "        vertical-align: middle;\n",
       "    }\n",
       "\n",
       "    .dataframe tbody tr th {\n",
       "        vertical-align: top;\n",
       "    }\n",
       "\n",
       "    .dataframe thead th {\n",
       "        text-align: right;\n",
       "    }\n",
       "</style>\n",
       "<table border=\"1\" class=\"dataframe\">\n",
       "  <thead>\n",
       "    <tr style=\"text-align: right;\">\n",
       "      <th></th>\n",
       "      <th>Unnamed: 0</th>\n",
       "      <th>advertiser_id</th>\n",
       "      <th>assigned</th>\n",
       "      <th>date_assignment_starts</th>\n",
       "      <th>date_assignment_ends</th>\n",
       "      <th>first_revenue_date</th>\n",
       "      <th>date_created</th>\n",
       "      <th>age</th>\n",
       "      <th>assign_days</th>\n",
       "      <th>revenue</th>\n",
       "    </tr>\n",
       "  </thead>\n",
       "  <tbody>\n",
       "    <tr>\n",
       "      <th>0</th>\n",
       "      <td>0</td>\n",
       "      <td>485</td>\n",
       "      <td>1</td>\n",
       "      <td>2017-02-01 00:00:00.000000</td>\n",
       "      <td>2017-06-19 12:12:37.888680</td>\n",
       "      <td>NaN</td>\n",
       "      <td>2006-07-14</td>\n",
       "      <td>3855</td>\n",
       "      <td>138</td>\n",
       "      <td>NaN</td>\n",
       "    </tr>\n",
       "    <tr>\n",
       "      <th>1</th>\n",
       "      <td>1</td>\n",
       "      <td>598</td>\n",
       "      <td>1</td>\n",
       "      <td>2017-02-01 00:00:00.000000</td>\n",
       "      <td>2017-06-19 12:12:37.888680</td>\n",
       "      <td>NaN</td>\n",
       "      <td>2006-08-02</td>\n",
       "      <td>3836</td>\n",
       "      <td>138</td>\n",
       "      <td>NaN</td>\n",
       "    </tr>\n",
       "    <tr>\n",
       "      <th>2</th>\n",
       "      <td>2</td>\n",
       "      <td>673</td>\n",
       "      <td>1</td>\n",
       "      <td>2017-02-01 00:00:00.000000</td>\n",
       "      <td>2017-04-28 15:36:30.000000</td>\n",
       "      <td>NaN</td>\n",
       "      <td>2006-08-17</td>\n",
       "      <td>3821</td>\n",
       "      <td>86</td>\n",
       "      <td>NaN</td>\n",
       "    </tr>\n",
       "    <tr>\n",
       "      <th>3</th>\n",
       "      <td>3</td>\n",
       "      <td>813</td>\n",
       "      <td>1</td>\n",
       "      <td>2017-02-01 00:00:00.000000</td>\n",
       "      <td>2017-06-19 12:12:37.888680</td>\n",
       "      <td>NaN</td>\n",
       "      <td>2006-09-12</td>\n",
       "      <td>3795</td>\n",
       "      <td>138</td>\n",
       "      <td>NaN</td>\n",
       "    </tr>\n",
       "    <tr>\n",
       "      <th>4</th>\n",
       "      <td>4</td>\n",
       "      <td>1132</td>\n",
       "      <td>1</td>\n",
       "      <td>2017-02-01 00:00:00.000000</td>\n",
       "      <td>2017-06-19 12:12:37.888680</td>\n",
       "      <td>NaN</td>\n",
       "      <td>2006-11-02</td>\n",
       "      <td>3744</td>\n",
       "      <td>138</td>\n",
       "      <td>NaN</td>\n",
       "    </tr>\n",
       "  </tbody>\n",
       "</table>\n",
       "</div>"
      ],
      "text/plain": [
       "   Unnamed: 0  advertiser_id  assigned      date_assignment_starts  \\\n",
       "0           0            485         1  2017-02-01 00:00:00.000000   \n",
       "1           1            598         1  2017-02-01 00:00:00.000000   \n",
       "2           2            673         1  2017-02-01 00:00:00.000000   \n",
       "3           3            813         1  2017-02-01 00:00:00.000000   \n",
       "4           4           1132         1  2017-02-01 00:00:00.000000   \n",
       "\n",
       "         date_assignment_ends first_revenue_date date_created   age  \\\n",
       "0  2017-06-19 12:12:37.888680                NaN   2006-07-14  3855   \n",
       "1  2017-06-19 12:12:37.888680                NaN   2006-08-02  3836   \n",
       "2  2017-04-28 15:36:30.000000                NaN   2006-08-17  3821   \n",
       "3  2017-06-19 12:12:37.888680                NaN   2006-09-12  3795   \n",
       "4  2017-06-19 12:12:37.888680                NaN   2006-11-02  3744   \n",
       "\n",
       "   assign_days  revenue  \n",
       "0          138      NaN  \n",
       "1          138      NaN  \n",
       "2           86      NaN  \n",
       "3          138      NaN  \n",
       "4          138      NaN  "
      ]
     },
     "execution_count": 2,
     "metadata": {},
     "output_type": "execute_result"
    }
   ],
   "source": [
    "dataset = pd.read_csv('homework_data_set.csv')\n",
    "dataset.head()"
   ]
  },
  {
   "cell_type": "code",
   "execution_count": 3,
   "metadata": {},
   "outputs": [],
   "source": [
    "dataset.rename(columns={'Unnamed: 0':'index'}, inplace=True)"
   ]
  },
  {
   "cell_type": "code",
   "execution_count": 4,
   "metadata": {},
   "outputs": [
    {
     "name": "stdout",
     "output_type": "stream",
     "text": [
      "<class 'pandas.core.frame.DataFrame'>\n",
      "RangeIndex: 77891 entries, 0 to 77890\n",
      "Data columns (total 10 columns):\n",
      "index                     77891 non-null int64\n",
      "advertiser_id             77891 non-null int64\n",
      "assigned                  77891 non-null int64\n",
      "date_assignment_starts    77891 non-null object\n",
      "date_assignment_ends      77891 non-null object\n",
      "first_revenue_date        8433 non-null object\n",
      "date_created              77891 non-null object\n",
      "age                       77891 non-null int64\n",
      "assign_days               77891 non-null int64\n",
      "revenue                   3340 non-null float64\n",
      "dtypes: float64(1), int64(5), object(4)\n",
      "memory usage: 5.9+ MB\n"
     ]
    }
   ],
   "source": [
    "dataset.info()"
   ]
  },
  {
   "cell_type": "code",
   "execution_count": 5,
   "metadata": {},
   "outputs": [
    {
     "data": {
      "text/plain": [
       "index                         0\n",
       "advertiser_id                 0\n",
       "assigned                      0\n",
       "date_assignment_starts        0\n",
       "date_assignment_ends          0\n",
       "first_revenue_date        69458\n",
       "date_created                  0\n",
       "age                           0\n",
       "assign_days                   0\n",
       "revenue                   74551\n",
       "dtype: int64"
      ]
     },
     "execution_count": 5,
     "metadata": {},
     "output_type": "execute_result"
    }
   ],
   "source": [
    "dataset.isnull().sum()"
   ]
  },
  {
   "cell_type": "code",
   "execution_count": 6,
   "metadata": {},
   "outputs": [
    {
     "name": "stdout",
     "output_type": "stream",
     "text": [
      "Missing ratio of first_revenue_date: 0.8917333196389827\n",
      "Missing ratio of revenue: 0.9571195645196493\n"
     ]
    }
   ],
   "source": [
    "print('Missing ratio of first_revenue_date:', dataset['first_revenue_date'].isnull().sum()/len(dataset))\n",
    "print('Missing ratio of revenue:', dataset['revenue'].isnull().sum()/len(dataset))"
   ]
  },
  {
   "cell_type": "code",
   "execution_count": 7,
   "metadata": {},
   "outputs": [
    {
     "data": {
      "text/plain": [
       "index                     0\n",
       "advertiser_id             0\n",
       "assigned                  0\n",
       "date_assignment_starts    0\n",
       "date_assignment_ends      0\n",
       "first_revenue_date        0\n",
       "date_created              0\n",
       "age                       0\n",
       "assign_days               0\n",
       "revenue                   0\n",
       "dtype: int64"
      ]
     },
     "execution_count": 7,
     "metadata": {},
     "output_type": "execute_result"
    }
   ],
   "source": [
    "dataset.first_revenue_date = dataset.first_revenue_date.fillna('none')\n",
    "dataset.revenue = dataset.revenue.fillna(0)\n",
    "dataset.isnull().sum()"
   ]
  },
  {
   "cell_type": "markdown",
   "metadata": {},
   "source": [
    "## Question 1\n",
    "There are 77891 leads in the dataset, 37079 leads are assigned (47.6% of all leads), 40812 leads are unassigned (52.4% of all leads). 4.2% assigned leads have revenue, and 4.3% unassigned leads have revenue."
   ]
  },
  {
   "cell_type": "code",
   "execution_count": 8,
   "metadata": {},
   "outputs": [
    {
     "name": "stdout",
     "output_type": "stream",
     "text": [
      "Total leads:  77891\n",
      "Assigned leads: 37079, 0.476037 of all leads\n",
      "Unassigned leads: 40812, 0.523963 of all leads\n"
     ]
    }
   ],
   "source": [
    "df_assigned = dataset['revenue'][dataset['assigned']==1]\n",
    "df_unassigned = dataset['revenue'][dataset['assigned']==0]\n",
    "print('Total leads: ', len(dataset))\n",
    "print('Assigned leads: %d, %f of all leads' % (df_assigned.count(), df_assigned.count()/len(dataset)))\n",
    "print('Unassigned leads: %d, %f of all leads' % (df_unassigned.count(), df_unassigned.count()/len(dataset)))"
   ]
  },
  {
   "cell_type": "code",
   "execution_count": 9,
   "metadata": {},
   "outputs": [
    {
     "data": {
      "image/png": "[encoded data removed]",
      "text/plain": [
       "<Figure size 432x288 with 1 Axes>"
      ]
     },
     "metadata": {},
     "output_type": "display_data"
    }
   ],
   "source": [
    "sns.countplot(dataset.assigned)\n",
    "plt.savefig('age_count')"
   ]
  },
  {
   "cell_type": "code",
   "execution_count": 10,
   "metadata": {},
   "outputs": [
    {
     "name": "stdout",
     "output_type": "stream",
     "text": [
      "4.220717926589175% assigned leads has revenue\n",
      "4.349211016367735% unassigned leads has revenue\n"
     ]
    }
   ],
   "source": [
    "as_rev = df_assigned[df_assigned != 0]\n",
    "unas_rev = df_unassigned[df_unassigned!= 0]\n",
    "print('{}% assigned leads has revenue'.format((as_rev.count()/df_assigned.count())*100))\n",
    "print('{}% unassigned leads has revenue'.format((unas_rev.count()/df_unassigned.count())*100))"
   ]
  },
  {
   "cell_type": "code",
   "execution_count": 11,
   "metadata": {},
   "outputs": [
    {
     "name": "stdout",
     "output_type": "stream",
     "text": [
      "Average revene of assigned leads: 76736860.96102236\n",
      "Average revene of unassigned leads: 23889416.03661972\n"
     ]
    }
   ],
   "source": [
    "avg_assigned_rev = as_rev.mean()\n",
    "avg_unassigned_rev = unas_rev.mean()\n",
    "print('Average revene of assigned leads:', avg_assigned_rev)\n",
    "print('Average revene of unassigned leads:', avg_unassigned_rev)"
   ]
  },
  {
   "cell_type": "markdown",
   "metadata": {},
   "source": [
    "## Question 2 \n",
    "The most important metrics used to estimate the incremental impact the sales representatives had on revenue are:\n",
    "\n",
    "* Revenue: In order to know how the revenue was impacted, the revenue from assigned/unassigned leads needs to be compared.\n",
    "* Account Age: Time length of the account might be correlated with revenue, either because of the established partnership with the account holder or just more time available to get the revenue.\n",
    "* Assignment Age: How much time the sales representative had to work with the account could reflect the established relationship or a problematic account.\n",
    "* Skill of the sales representatives: not given here, but the soft/business skills of the advertiser can be reflected in higher revenues.\n"
   ]
  },
  {
   "cell_type": "markdown",
   "metadata": {},
   "source": [
    "## Question 3\n",
    "Relationship between account age and revenue."
   ]
  },
  {
   "cell_type": "code",
   "execution_count": 12,
   "metadata": {},
   "outputs": [
    {
     "name": "stdout",
     "output_type": "stream",
     "text": [
      "Average account age of assigned leads: 638.0159659106232\n",
      "Average account age of unassigned leads: 11.90791923943938\n"
     ]
    }
   ],
   "source": [
    "df_as = dataset[dataset['assigned']==1]\n",
    "df_unas = dataset[dataset['assigned']==0]\n",
    "mean_as_age = df_as['age'].mean()\n",
    "mean_unas_age = df_unas['age'].mean()\n",
    "print('Average account age of assigned leads:', mean_as_age)\n",
    "print('Average account age of unassigned leads:', mean_unas_age)"
   ]
  },
  {
   "cell_type": "code",
   "execution_count": 13,
   "metadata": {},
   "outputs": [],
   "source": [
    "def trans_day(d):\n",
    "    year = int(d/365)\n",
    "    return year"
   ]
  },
  {
   "cell_type": "code",
   "execution_count": 14,
   "metadata": {},
   "outputs": [
    {
     "name": "stdout",
     "output_type": "stream",
     "text": [
      "9\n",
      "0\n"
     ]
    }
   ],
   "source": [
    "df = dataset[dataset['revenue']!=0].copy()\n",
    "df['age_years'] = df['age'].apply(lambda x: trans_day(x))\n",
    "print(df['age_years'].max())\n",
    "print(df['age_years'].min())"
   ]
  },
  {
   "cell_type": "code",
   "execution_count": 15,
   "metadata": {},
   "outputs": [
    {
     "name": "stderr",
     "output_type": "stream",
     "text": [
      "c:\\users\\jelly\\appdata\\local\\programs\\python\\python36\\lib\\site-packages\\scipy\\stats\\stats.py:1706: FutureWarning: Using a non-tuple sequence for multidimensional indexing is deprecated; use `arr[tuple(seq)]` instead of `arr[seq]`. In the future this will be interpreted as an array index, `arr[np.array(seq)]`, which will result either in an error or a different result.\n",
      "  return np.add.reduce(sorted[indexer] * weights, axis=axis) / sumval\n"
     ]
    },
    {
     "data": {
      "image/png": "[encoded data removed]",
      "text/plain": [
       "<Figure size 484.75x432 with 1 Axes>"
      ]
     },
     "metadata": {},
     "output_type": "display_data"
    }
   ],
   "source": [
    "fig = sns.catplot(data=df, x='age_years', y='revenue', hue='assigned', kind='bar', height=6)\n",
    "plt.title('Revenue for different account ages')\n",
    "plt.savefig('age_revenue')"
   ]
  },
  {
   "cell_type": "markdown",
   "metadata": {},
   "source": [
    "* Average revenue of assigned leads is higher than unassigned leads.\n",
    "* In year 6, average revenue is much less than year 5, 7, 8, 9. "
   ]
  },
  {
   "cell_type": "code",
   "execution_count": 16,
   "metadata": {},
   "outputs": [
    {
     "data": {
      "image/png": "[encoded data removed]",
      "text/plain": [
       "<Figure size 432x288 with 1 Axes>"
      ]
     },
     "metadata": {},
     "output_type": "display_data"
    }
   ],
   "source": [
    "dataset.age.hist()\n",
    "plt.title('Histogram of Account Age')\n",
    "plt.xlabel('Account Age(days)')\n",
    "plt.ylabel('Frequency')\n",
    "plt.savefig('age_hist')"
   ]
  },
  {
   "cell_type": "markdown",
   "metadata": {},
   "source": [
    "## Queation 4\n",
    "Incremental value from assigning a lead to the sales team."
   ]
  },
  {
   "cell_type": "code",
   "execution_count": 17,
   "metadata": {},
   "outputs": [
    {
     "name": "stdout",
     "output_type": "stream",
     "text": [
      "Incremental value from assigning a lead to the sales team is:  52847444.92440264\n"
     ]
    }
   ],
   "source": [
    "incremental_val = as_rev.mean() - unas_rev.mean()\n",
    "print('Incremental value from assigning a lead to the sales team is: ', incremental_val)"
   ]
  },
  {
   "cell_type": "markdown",
   "metadata": {},
   "source": [
    "## Further analysis\n",
    "Since the assignment is only has two classes, 0 and 1, I tried Logistic Regression to train preprocessed data and predicted the classes with selected features that might have more impact on assignment."
   ]
  },
  {
   "cell_type": "code",
   "execution_count": 18,
   "metadata": {},
   "outputs": [
    {
     "name": "stdout",
     "output_type": "stream",
     "text": [
      "(77891, 10)\n"
     ]
    },
    {
     "data": {
      "text/html": [
       "<div>\n",
       "<style scoped>\n",
       "    .dataframe tbody tr th:only-of-type {\n",
       "        vertical-align: middle;\n",
       "    }\n",
       "\n",
       "    .dataframe tbody tr th {\n",
       "        vertical-align: top;\n",
       "    }\n",
       "\n",
       "    .dataframe thead th {\n",
       "        text-align: right;\n",
       "    }\n",
       "</style>\n",
       "<table border=\"1\" class=\"dataframe\">\n",
       "  <thead>\n",
       "    <tr style=\"text-align: right;\">\n",
       "      <th></th>\n",
       "      <th>index</th>\n",
       "      <th>advertiser_id</th>\n",
       "      <th>assigned</th>\n",
       "      <th>date_assignment_starts</th>\n",
       "      <th>date_assignment_ends</th>\n",
       "      <th>first_revenue_date</th>\n",
       "      <th>date_created</th>\n",
       "      <th>age</th>\n",
       "      <th>assign_days</th>\n",
       "      <th>revenue</th>\n",
       "    </tr>\n",
       "  </thead>\n",
       "  <tbody>\n",
       "    <tr>\n",
       "      <th>0</th>\n",
       "      <td>0</td>\n",
       "      <td>485</td>\n",
       "      <td>1</td>\n",
       "      <td>0</td>\n",
       "      <td>6501</td>\n",
       "      <td>1636</td>\n",
       "      <td>0</td>\n",
       "      <td>3855</td>\n",
       "      <td>138</td>\n",
       "      <td>0.0</td>\n",
       "    </tr>\n",
       "    <tr>\n",
       "      <th>1</th>\n",
       "      <td>1</td>\n",
       "      <td>598</td>\n",
       "      <td>1</td>\n",
       "      <td>0</td>\n",
       "      <td>6501</td>\n",
       "      <td>1636</td>\n",
       "      <td>1</td>\n",
       "      <td>3836</td>\n",
       "      <td>138</td>\n",
       "      <td>0.0</td>\n",
       "    </tr>\n",
       "    <tr>\n",
       "      <th>2</th>\n",
       "      <td>2</td>\n",
       "      <td>673</td>\n",
       "      <td>1</td>\n",
       "      <td>0</td>\n",
       "      <td>5702</td>\n",
       "      <td>1636</td>\n",
       "      <td>2</td>\n",
       "      <td>3821</td>\n",
       "      <td>86</td>\n",
       "      <td>0.0</td>\n",
       "    </tr>\n",
       "    <tr>\n",
       "      <th>3</th>\n",
       "      <td>3</td>\n",
       "      <td>813</td>\n",
       "      <td>1</td>\n",
       "      <td>0</td>\n",
       "      <td>6501</td>\n",
       "      <td>1636</td>\n",
       "      <td>3</td>\n",
       "      <td>3795</td>\n",
       "      <td>138</td>\n",
       "      <td>0.0</td>\n",
       "    </tr>\n",
       "    <tr>\n",
       "      <th>4</th>\n",
       "      <td>4</td>\n",
       "      <td>1132</td>\n",
       "      <td>1</td>\n",
       "      <td>0</td>\n",
       "      <td>6501</td>\n",
       "      <td>1636</td>\n",
       "      <td>4</td>\n",
       "      <td>3744</td>\n",
       "      <td>138</td>\n",
       "      <td>0.0</td>\n",
       "    </tr>\n",
       "  </tbody>\n",
       "</table>\n",
       "</div>"
      ],
      "text/plain": [
       "   index  advertiser_id  assigned  date_assignment_starts  \\\n",
       "0      0            485         1                       0   \n",
       "1      1            598         1                       0   \n",
       "2      2            673         1                       0   \n",
       "3      3            813         1                       0   \n",
       "4      4           1132         1                       0   \n",
       "\n",
       "   date_assignment_ends  first_revenue_date  date_created   age  assign_days  \\\n",
       "0                  6501                1636             0  3855          138   \n",
       "1                  6501                1636             1  3836          138   \n",
       "2                  5702                1636             2  3821           86   \n",
       "3                  6501                1636             3  3795          138   \n",
       "4                  6501                1636             4  3744          138   \n",
       "\n",
       "   revenue  \n",
       "0      0.0  \n",
       "1      0.0  \n",
       "2      0.0  \n",
       "3      0.0  \n",
       "4      0.0  "
      ]
     },
     "execution_count": 18,
     "metadata": {},
     "output_type": "execute_result"
    }
   ],
   "source": [
    "from sklearn.preprocessing import LabelEncoder, PolynomialFeatures, StandardScaler\n",
    "columns = dataset.dtypes[(dataset.dtypes=='object')].index\n",
    "for col in columns:\n",
    "    le = LabelEncoder()\n",
    "    le.fit(list(dataset[col].values))\n",
    "    dataset[col] = le.transform(list(dataset[col].values))\n",
    "print(dataset.shape)\n",
    "dataset.head()"
   ]
  },
  {
   "cell_type": "code",
   "execution_count": 19,
   "metadata": {},
   "outputs": [
    {
     "data": {
      "text/html": [
       "<div>\n",
       "<style scoped>\n",
       "    .dataframe tbody tr th:only-of-type {\n",
       "        vertical-align: middle;\n",
       "    }\n",
       "\n",
       "    .dataframe tbody tr th {\n",
       "        vertical-align: top;\n",
       "    }\n",
       "\n",
       "    .dataframe thead th {\n",
       "        text-align: right;\n",
       "    }\n",
       "</style>\n",
       "<table border=\"1\" class=\"dataframe\">\n",
       "  <thead>\n",
       "    <tr style=\"text-align: right;\">\n",
       "      <th></th>\n",
       "      <th>index</th>\n",
       "      <th>advertiser_id</th>\n",
       "      <th>assigned</th>\n",
       "      <th>date_assignment_starts</th>\n",
       "      <th>date_assignment_ends</th>\n",
       "      <th>first_revenue_date</th>\n",
       "      <th>date_created</th>\n",
       "      <th>age</th>\n",
       "      <th>assign_days</th>\n",
       "      <th>revenue</th>\n",
       "    </tr>\n",
       "  </thead>\n",
       "  <tbody>\n",
       "    <tr>\n",
       "      <th>count</th>\n",
       "      <td>77891.000000</td>\n",
       "      <td>7.789100e+04</td>\n",
       "      <td>77891.000000</td>\n",
       "      <td>77891.000000</td>\n",
       "      <td>77891.000000</td>\n",
       "      <td>77891.000000</td>\n",
       "      <td>77891.000000</td>\n",
       "      <td>77891.000000</td>\n",
       "      <td>77891.000000</td>\n",
       "      <td>7.789100e+04</td>\n",
       "    </tr>\n",
       "    <tr>\n",
       "      <th>mean</th>\n",
       "      <td>38945.000000</td>\n",
       "      <td>7.924271e+06</td>\n",
       "      <td>0.476037</td>\n",
       "      <td>0.507183</td>\n",
       "      <td>5986.948672</td>\n",
       "      <td>1588.662824</td>\n",
       "      <td>1773.814356</td>\n",
       "      <td>309.958532</td>\n",
       "      <td>120.482546</td>\n",
       "      <td>2.086209e+06</td>\n",
       "    </tr>\n",
       "    <tr>\n",
       "      <th>std</th>\n",
       "      <td>22485.339246</td>\n",
       "      <td>3.918985e+06</td>\n",
       "      <td>0.499429</td>\n",
       "      <td>0.687346</td>\n",
       "      <td>1379.040658</td>\n",
       "      <td>194.461710</td>\n",
       "      <td>467.465878</td>\n",
       "      <td>488.801166</td>\n",
       "      <td>39.527908</td>\n",
       "      <td>3.728792e+07</td>\n",
       "    </tr>\n",
       "    <tr>\n",
       "      <th>min</th>\n",
       "      <td>0.000000</td>\n",
       "      <td>4.850000e+02</td>\n",
       "      <td>0.000000</td>\n",
       "      <td>0.000000</td>\n",
       "      <td>0.000000</td>\n",
       "      <td>0.000000</td>\n",
       "      <td>0.000000</td>\n",
       "      <td>-27.000000</td>\n",
       "      <td>-2.000000</td>\n",
       "      <td>0.000000e+00</td>\n",
       "    </tr>\n",
       "    <tr>\n",
       "      <th>25%</th>\n",
       "      <td>19472.500000</td>\n",
       "      <td>4.317428e+06</td>\n",
       "      <td>0.000000</td>\n",
       "      <td>0.000000</td>\n",
       "      <td>6501.000000</td>\n",
       "      <td>1636.000000</td>\n",
       "      <td>1553.000000</td>\n",
       "      <td>0.000000</td>\n",
       "      <td>136.000000</td>\n",
       "      <td>0.000000e+00</td>\n",
       "    </tr>\n",
       "    <tr>\n",
       "      <th>50%</th>\n",
       "      <td>38945.000000</td>\n",
       "      <td>1.078788e+07</td>\n",
       "      <td>0.000000</td>\n",
       "      <td>0.000000</td>\n",
       "      <td>6501.000000</td>\n",
       "      <td>1636.000000</td>\n",
       "      <td>2076.000000</td>\n",
       "      <td>0.000000</td>\n",
       "      <td>137.000000</td>\n",
       "      <td>0.000000e+00</td>\n",
       "    </tr>\n",
       "    <tr>\n",
       "      <th>75%</th>\n",
       "      <td>58417.500000</td>\n",
       "      <td>1.080747e+07</td>\n",
       "      <td>1.000000</td>\n",
       "      <td>1.000000</td>\n",
       "      <td>6501.000000</td>\n",
       "      <td>1636.000000</td>\n",
       "      <td>2077.000000</td>\n",
       "      <td>523.000000</td>\n",
       "      <td>138.000000</td>\n",
       "      <td>0.000000e+00</td>\n",
       "    </tr>\n",
       "    <tr>\n",
       "      <th>max</th>\n",
       "      <td>77890.000000</td>\n",
       "      <td>1.119963e+07</td>\n",
       "      <td>1.000000</td>\n",
       "      <td>2.000000</td>\n",
       "      <td>6501.000000</td>\n",
       "      <td>1636.000000</td>\n",
       "      <td>2100.000000</td>\n",
       "      <td>3855.000000</td>\n",
       "      <td>138.000000</td>\n",
       "      <td>6.533791e+09</td>\n",
       "    </tr>\n",
       "  </tbody>\n",
       "</table>\n",
       "</div>"
      ],
      "text/plain": [
       "              index  advertiser_id      assigned  date_assignment_starts  \\\n",
       "count  77891.000000   7.789100e+04  77891.000000            77891.000000   \n",
       "mean   38945.000000   7.924271e+06      0.476037                0.507183   \n",
       "std    22485.339246   3.918985e+06      0.499429                0.687346   \n",
       "min        0.000000   4.850000e+02      0.000000                0.000000   \n",
       "25%    19472.500000   4.317428e+06      0.000000                0.000000   \n",
       "50%    38945.000000   1.078788e+07      0.000000                0.000000   \n",
       "75%    58417.500000   1.080747e+07      1.000000                1.000000   \n",
       "max    77890.000000   1.119963e+07      1.000000                2.000000   \n",
       "\n",
       "       date_assignment_ends  first_revenue_date  date_created           age  \\\n",
       "count          77891.000000        77891.000000  77891.000000  77891.000000   \n",
       "mean            5986.948672         1588.662824   1773.814356    309.958532   \n",
       "std             1379.040658          194.461710    467.465878    488.801166   \n",
       "min                0.000000            0.000000      0.000000    -27.000000   \n",
       "25%             6501.000000         1636.000000   1553.000000      0.000000   \n",
       "50%             6501.000000         1636.000000   2076.000000      0.000000   \n",
       "75%             6501.000000         1636.000000   2077.000000    523.000000   \n",
       "max             6501.000000         1636.000000   2100.000000   3855.000000   \n",
       "\n",
       "        assign_days       revenue  \n",
       "count  77891.000000  7.789100e+04  \n",
       "mean     120.482546  2.086209e+06  \n",
       "std       39.527908  3.728792e+07  \n",
       "min       -2.000000  0.000000e+00  \n",
       "25%      136.000000  0.000000e+00  \n",
       "50%      137.000000  0.000000e+00  \n",
       "75%      138.000000  0.000000e+00  \n",
       "max      138.000000  6.533791e+09  "
      ]
     },
     "execution_count": 19,
     "metadata": {},
     "output_type": "execute_result"
    }
   ],
   "source": [
    "dataset.describe()"
   ]
  },
  {
   "cell_type": "code",
   "execution_count": 20,
   "metadata": {},
   "outputs": [
    {
     "name": "stdout",
     "output_type": "stream",
     "text": [
      "(77891, 8)\n",
      "Num Features: 3\n",
      "Selected Features: [False False False  True False  True  True False]\n",
      "Feature Ranking: [4 5 2 1 3 1 1 6]\n"
     ]
    }
   ],
   "source": [
    "from sklearn.linear_model import LogisticRegression as lr\n",
    "from sklearn.feature_selection import RFE\n",
    "X = dataset.drop(['assigned', 'index'], axis=1)\n",
    "print(X.shape)\n",
    "y = dataset.assigned\n",
    "model = lr()\n",
    "rfe = RFE(model, 3)\n",
    "fit = rfe.fit(X, y)\n",
    "print(\"Num Features: %d\" % fit.n_features_) \n",
    "print(\"Selected Features: %s\" % fit.support_) \n",
    "print(\"Feature Ranking: %s\" % fit.ranking_)"
   ]
  },
  {
   "cell_type": "markdown",
   "metadata": {},
   "source": [
    "I used the Recursive Feature Elimination (RFE) based on Logistic Regression to choose the first three features that have the most significant impact on assignment. And the first features are 'assigned_days', 'first_revenue_date', and 'age'. "
   ]
  },
  {
   "cell_type": "code",
   "execution_count": 21,
   "metadata": {},
   "outputs": [],
   "source": [
    "X_data = X[['age', 'assign_days', 'first_revenue_date']]\n",
    "Y = dataset['assigned']\n",
    "poly = PolynomialFeatures(degree=2, interaction_only=True)\n",
    "x = poly.fit_transform(X_data)"
   ]
  },
  {
   "cell_type": "markdown",
   "metadata": {},
   "source": [
    "In oder to get higher accuracy, I created poly features to make non-linear factors."
   ]
  },
  {
   "cell_type": "code",
   "execution_count": 22,
   "metadata": {},
   "outputs": [],
   "source": [
    "from sklearn.model_selection import train_test_split\n",
    "x_train, x_test, y_train, y_test = train_test_split(x, y, test_size=0.4, random_state=0)"
   ]
  },
  {
   "cell_type": "code",
   "execution_count": 23,
   "metadata": {},
   "outputs": [],
   "source": [
    "model.fit(x_train, y_train)\n",
    "pred = model.predict(x_test)"
   ]
  },
  {
   "cell_type": "code",
   "execution_count": 24,
   "metadata": {},
   "outputs": [
    {
     "name": "stdout",
     "output_type": "stream",
     "text": [
      "Accuracy train set:  0.8976762100397997\n"
     ]
    }
   ],
   "source": [
    "print('Accuracy train set: ', model.score(x_train, y_train))"
   ]
  },
  {
   "cell_type": "code",
   "execution_count": 25,
   "metadata": {},
   "outputs": [
    {
     "name": "stdout",
     "output_type": "stream",
     "text": [
      "Accuracy test set:  0.8965240555894342\n"
     ]
    }
   ],
   "source": [
    "print('Accuracy test set: ', model.score(x_test, y_test))"
   ]
  },
  {
   "cell_type": "code",
   "execution_count": 26,
   "metadata": {},
   "outputs": [
    {
     "name": "stderr",
     "output_type": "stream",
     "text": [
      "c:\\users\\jelly\\appdata\\local\\programs\\python\\python36\\lib\\site-packages\\ipykernel_launcher.py:1: FutureWarning: reshape is deprecated and will raise in a subsequent release. Please use .values.reshape(...) instead\n",
      "  \"\"\"Entry point for launching an IPython kernel.\n"
     ]
    }
   ],
   "source": [
    "y_test = y_test.reshape((31157, 1))\n",
    "pred = pred.reshape((31157, 1))"
   ]
  },
  {
   "cell_type": "markdown",
   "metadata": {},
   "source": [
    "Plot the ROC curve of model"
   ]
  },
  {
   "cell_type": "code",
   "execution_count": 27,
   "metadata": {},
   "outputs": [
    {
     "data": {
      "image/png": "[encoded data removed]",
      "text/plain": [
       "<Figure size 432x288 with 1 Axes>"
      ]
     },
     "metadata": {},
     "output_type": "display_data"
    }
   ],
   "source": [
    "from sklearn.metrics import roc_curve, roc_auc_score\n",
    "false_positive, recall, thresholds = roc_curve(y_test, pred)\n",
    "roc_auc = roc_auc_score(y_test, pred)\n",
    "plt.plot(false_positive, recall, label='AUC=%0.2f' % roc_auc)\n",
    "plt.legend(loc='lower right')  \n",
    "plt.plot([0, 1], [0, 1], 'r--')  \n",
    "plt.xlim([0.0, 1.0])  \n",
    "plt.ylim([0.0, 1.05])\n",
    "plt.title('Receiver operating characteristic')\n",
    "plt.ylabel('True Positive Rate')  \n",
    "plt.xlabel('False Positive Rate')\n",
    "plt.savefig('lr_roc')\n",
    "plt.show()  "
   ]
  },
  {
   "cell_type": "markdown",
   "metadata": {},
   "source": [
    "Since the AUC value of trained Logistic Regression model is 0.89, it can be considered the accuracy of model is ideal."
   ]
  }
 ],
 "metadata": {
  "kernelspec": {
   "display_name": "Python 3",
   "language": "python",
   "name": "python3"
  },
  "language_info": {
   "codemirror_mode": {
    "name": "ipython",
    "version": 3
   },
   "file_extension": ".py",
   "mimetype": "text/x-python",
   "name": "python",
   "nbconvert_exporter": "python",
   "pygments_lexer": "ipython3",
   "version": "3.6.5"
  }
 },
 "nbformat": 4,
 "nbformat_minor": 2
}
